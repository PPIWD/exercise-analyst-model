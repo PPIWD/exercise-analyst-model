{
  "nbformat": 4,
  "nbformat_minor": 0,
  "metadata": {
    "colab": {
      "name": "ML_GoogleDownload.ipynb",
      "provenance": [],
      "toc_visible": true
    },
    "kernelspec": {
      "name": "python3",
      "display_name": "Python 3"
    },
    "language_info": {
      "name": "python"
    }
  },
  "cells": [
    {
      "cell_type": "markdown",
      "metadata": {
        "id": "e0VIYz9LnE9q"
      },
      "source": [
        "## Imports"
      ]
    },
    {
      "cell_type": "code",
      "metadata": {
        "id": "UsDZWgTgnEZi"
      },
      "source": [
        "import os\n",
        "import json"
      ],
      "execution_count": 1,
      "outputs": []
    },
    {
      "cell_type": "markdown",
      "metadata": {
        "id": "h6J2MTmynKLh"
      },
      "source": [
        "## Import data from google drive"
      ]
    },
    {
      "cell_type": "code",
      "metadata": {
        "id": "i2-jd9ZcuHOw"
      },
      "source": [
        "DATA_DIR = 'data'\n",
        "os.makedirs(DATA_DIR, exist_ok=True)\n",
        "\n",
        "# https://drive.google.com/file/d/1Be2R14yzef_rD-zYzpzsWaWWpK2xvf8-/view\n",
        "# https://drive.google.com/file/d/           <Tu jest id>          /view\n",
        "!gdown --id 1Be2R14yzef_rD-zYzpzsWaWWpK2xvf8- -O '/content/{DATA_DIR}/data.json'\n",
        "DATA_PATH = os.path.join(DATA_DIR, 'data.json')\n",
        "\n",
        "jakiesLosoweDane = {}\n",
        "\n",
        "with open(DATA_PATH) as json_file:\n",
        "    jakiesLosoweDane = json.load(json_file)\n"
      ],
      "execution_count": null,
      "outputs": []
    },
    {
      "cell_type": "code",
      "metadata": {
        "id": "v_0KZZCm0RII"
      },
      "source": [
        "print(jakiesLosoweDane)"
      ],
      "execution_count": null,
      "outputs": []
    }
  ]
}