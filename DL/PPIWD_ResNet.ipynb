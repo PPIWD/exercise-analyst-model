{
  "nbformat": 4,
  "nbformat_minor": 0,
  "metadata": {
    "colab": {
      "name": "PPIWD_ResNet.ipynb",
      "provenance": [],
      "collapsed_sections": []
    },
    "kernelspec": {
      "name": "python3",
      "display_name": "Python 3"
    },
    "language_info": {
      "name": "python"
    },
    "accelerator": "GPU"
  },
  "cells": [
    {
      "cell_type": "code",
      "metadata": {
        "id": "TOGM52XKalhM",
        "cellView": "form"
      },
      "source": [
        "#@title Imports\n",
        "from tensorflow import keras\n",
        "import numpy as np\n",
        "import pandas as pd\n",
        "\n",
        "import seaborn as sns\n",
        "import matplotlib.pyplot as plt\n",
        "import tensorflow as tf\n",
        "import keras\n",
        "from keras import layers\n",
        "from google.colab import drive\n",
        "\n",
        "from sklearn.utils import resample\n",
        "from scipy import stats\n",
        "\n",
        "from sklearn.metrics import confusion_matrix, classification_report\n",
        "\n",
        "%matplotlib inline\n",
        "tf.random.set_seed(42)"
      ],
      "execution_count": 102,
      "outputs": []
    },
    {
      "cell_type": "code",
      "metadata": {
        "id": "ILDrvsyi6mCz"
      },
      "source": [
        "#@title Model\n",
        "def build_resnet(input_shape, nb_classes, n_feature_maps = 64):\n",
        "    x = layers.Input(shape=(input_shape))\n",
        "    conv_x = layers.BatchNormalization()(x)\n",
        "    conv_x = layers.Conv2D(n_feature_maps, 8, 1, padding='same')(conv_x)\n",
        "    conv_x = layers.BatchNormalization()(conv_x)\n",
        "    conv_x = layers.Activation('relu')(conv_x)\n",
        "     \n",
        "    conv_y = layers.Conv2D(n_feature_maps, 5, 1, padding='same')(conv_x)\n",
        "    conv_y = layers.BatchNormalization()(conv_y)\n",
        "    conv_y = layers.Activation('relu')(conv_y)\n",
        "     \n",
        "    conv_z = layers.Conv2D(n_feature_maps, 3, 1, padding='same')(conv_y)\n",
        "    conv_z = layers.BatchNormalization()(conv_z)\n",
        "     \n",
        "    is_expand_channels = not (input_shape[-1] == n_feature_maps)\n",
        "    if is_expand_channels:\n",
        "        shortcut_y = layers.Conv2D(n_feature_maps, 1, 1,padding='same')(x)\n",
        "        shortcut_y = layers.BatchNormalization()(shortcut_y)\n",
        "    else:\n",
        "        shortcut_y = ker.layers.BatchNormalization()(x)\n",
        "\n",
        "    y = layers.Add()([shortcut_y, conv_z])\n",
        "    y = layers.Activation('relu')(y)\n",
        "     \n",
        "    x1 = y\n",
        "    conv_x = layers.Conv2D(n_feature_maps*2, 8, 1, padding='same')(x1)\n",
        "    conv_x = layers.BatchNormalization()(conv_x)\n",
        "    conv_x = layers.Activation('relu')(conv_x)\n",
        "     \n",
        "    conv_y = layers.Conv2D(n_feature_maps*2, 5, 1, padding='same')(conv_x)\n",
        "    conv_y = layers.BatchNormalization()(conv_y)\n",
        "    conv_y = layers.Activation('relu')(conv_y)\n",
        "     \n",
        "    conv_z = layers.Conv2D(n_feature_maps*2, 3, 1, padding='same')(conv_y)\n",
        "    conv_z = layers.BatchNormalization()(conv_z)\n",
        "     \n",
        "    is_expand_channels = not (input_shape[-1] == n_feature_maps*2)\n",
        "    if is_expand_channels:\n",
        "        shortcut_y = layers.Conv2D(n_feature_maps*2, 1, 1,padding='same')(x1)\n",
        "        shortcut_y = layers.BatchNormalization()(shortcut_y)\n",
        "    else:\n",
        "        shortcut_y = layers.BatchNormalization()(x1)\n",
        "\n",
        "    y = layers.Add()([shortcut_y, conv_z])\n",
        "    y = layers.Activation('relu')(y)\n",
        "     \n",
        "    x1 = y\n",
        "    conv_x = layers.Conv2D(n_feature_maps*2, 8, 1, padding='same')(x1)\n",
        "    conv_x = layers.BatchNormalization()(conv_x)\n",
        "    conv_x = layers.Activation('relu')(conv_x)\n",
        "     \n",
        "    conv_y = layers.Conv2D(n_feature_maps*2, 5, 1, padding='same')(conv_x)\n",
        "    conv_y = layers.BatchNormalization()(conv_y)\n",
        "    conv_y = layers.Activation('relu')(conv_y)\n",
        "     \n",
        "    conv_z = layers.Conv2D(n_feature_maps*2, 3, 1, padding='same')(conv_y)\n",
        "    conv_z = layers.BatchNormalization()(conv_z)\n",
        "\n",
        "    is_expand_channels = not (input_shape[-1] == n_feature_maps*2)\n",
        "    if is_expand_channels:\n",
        "        shortcut_y = layers.Conv2D(n_feature_maps*2, 1, 1,padding='same')(x1)\n",
        "        shortcut_y = layers.BatchNormalization()(shortcut_y)\n",
        "    else:\n",
        "        shortcut_y = layers.BatchNormalization()(x1)\n",
        "\n",
        "    y = layers.Add()([shortcut_y, conv_z])\n",
        "    y = layers.Activation('relu')(y)\n",
        "     \n",
        "    full = layers.GlobalAveragePooling2D()(y)\n",
        "    out = layers.Dense(nb_classes, activation='softmax')(full)\n",
        "\n",
        "    return x, out"
      ],
      "execution_count": 103,
      "outputs": []
    },
    {
      "cell_type": "code",
      "metadata": {
        "colab": {
          "base_uri": "https://localhost:8080/"
        },
        "id": "B7kQodDC2Ax5",
        "cellView": "form",
        "outputId": "a27a23ca-d7e6-4b88-b359-1719f6267417"
      },
      "source": [
        "#@title Data download\n",
        "drive.mount('/content/drive/')\n",
        "\n",
        "!cp \"/content/drive/MyDrive/boiled_data.csv\" \"/home/\"\n",
        "df = pd.read_csv('/home/boiled_data.csv')"
      ],
      "execution_count": 104,
      "outputs": [
        {
          "output_type": "stream",
          "text": [
            "Drive already mounted at /content/drive/; to attempt to forcibly remount, call drive.mount(\"/content/drive/\", force_remount=True).\n"
          ],
          "name": "stdout"
        }
      ]
    },
    {
      "cell_type": "code",
      "metadata": {
        "colab": {
          "base_uri": "https://localhost:8080/"
        },
        "id": "vnHoHIQN2Bb4",
        "cellView": "form",
        "outputId": "aad1709f-dc51-4d3e-f91c-4f2349a242f5"
      },
      "source": [
        "#@title Downsampling\n",
        "df_majority = df[df.Activity==0]\n",
        "df_minorities = df[df.Activity!=0]\n",
        " \n",
        "df_majority_downsampled = resample(df_majority,n_samples=30000, random_state=42)\n",
        "df = pd.concat([df_majority_downsampled, df_minorities])\n",
        "df.Activity.value_counts()"
      ],
      "execution_count": 105,
      "outputs": [
        {
          "output_type": "execute_result",
          "data": {
            "text/plain": [
              "11    30720\n",
              "10    30720\n",
              "9     30720\n",
              "5     30720\n",
              "4     30720\n",
              "3     30720\n",
              "2     30720\n",
              "1     30720\n",
              "0     30000\n",
              "7     29441\n",
              "8     29337\n",
              "6     28315\n",
              "12    10342\n",
              "Name: Activity, dtype: int64"
            ]
          },
          "metadata": {
            "tags": []
          },
          "execution_count": 105
        }
      ]
    },
    {
      "cell_type": "code",
      "metadata": {
        "id": "YNHbxkWX2FcY"
      },
      "source": [
        "df1 = df.copy()\n",
        "\n",
        "for feature in df1.columns[:-2]:\n",
        "  lower_range = np.quantile(df[feature],0.01)\n",
        "  upper_range = np.quantile(df[feature],0.99)\n",
        "\n",
        "  df1 = df1.drop(df1[(df1[feature]>upper_range) | (df1[feature]<lower_range)].index, axis=0)"
      ],
      "execution_count": 106,
      "outputs": []
    },
    {
      "cell_type": "code",
      "metadata": {
        "id": "lvdJSXz32HPB"
      },
      "source": [
        "label_map = {\n",
        "    0: 'Nothing',\n",
        "    1: 'Standing still',  \n",
        "    2: 'Sitting and relaxing', \n",
        "    3: 'Lying down',  \n",
        "    4: 'Walking',  \n",
        "    5: 'Climbing stairs',  \n",
        "    6: 'Waist bends forward',\n",
        "    7: 'Frontal elevation of arms', \n",
        "    8: 'Knees bending (crouching)', \n",
        "    9: 'Cycling', \n",
        "    10: 'Jogging', \n",
        "    11: 'Running', \n",
        "    12: 'Jump front & back' \n",
        "}"
      ],
      "execution_count": 107,
      "outputs": []
    },
    {
      "cell_type": "code",
      "metadata": {
        "colab": {
          "base_uri": "https://localhost:8080/"
        },
        "id": "aHp5cnNJ2JLY",
        "outputId": "ff2d16a4-5501-4fc6-940b-36cf9b4b6c5b"
      },
      "source": [
        "train = df1[(df1['subject'] != 'subject9') & (df1['subject'] != 'subject10')]\n",
        "test = df1.drop(train.index, axis=0)\n",
        "train.shape,test.shape"
      ],
      "execution_count": 108,
      "outputs": [
        {
          "output_type": "execute_result",
          "data": {
            "text/plain": [
              "((266295, 8), (69386, 8))"
            ]
          },
          "metadata": {
            "tags": []
          },
          "execution_count": 108
        }
      ]
    },
    {
      "cell_type": "code",
      "metadata": {
        "colab": {
          "base_uri": "https://localhost:8080/"
        },
        "id": "V3hFo85q2NQ8",
        "outputId": "0a205791-7f80-4ae6-9b1f-0310b9fce7ce"
      },
      "source": [
        "X_train = train.drop(['Activity', 'subject'],axis=1)\n",
        "y_train = train['Activity']\n",
        "X_test = test.drop(['Activity', 'subject'],axis=1)\n",
        "y_test = test['Activity']\n",
        "\n",
        "X_train.shape,y_train.shape,X_test.shape,y_test.shape"
      ],
      "execution_count": 109,
      "outputs": [
        {
          "output_type": "execute_result",
          "data": {
            "text/plain": [
              "((266295, 6), (266295,), (69386, 6), (69386,))"
            ]
          },
          "metadata": {
            "tags": []
          },
          "execution_count": 109
        }
      ]
    },
    {
      "cell_type": "code",
      "metadata": {
        "id": "xbzkFz602QaA"
      },
      "source": [
        "def create_dataset(X, y, time_steps, step=1):\n",
        "    Xs, ys = [], []\n",
        "    for i in range(0, len(X) - time_steps, step):\n",
        "        x = X.iloc[i:(i + time_steps)].values\n",
        "        labels = y.iloc[i: i + time_steps]\n",
        "        Xs.append(x)\n",
        "        ys.append(stats.mode(labels)[0][0])\n",
        "\n",
        "    return np.array(Xs), np.array(ys).reshape(-1, 1)"
      ],
      "execution_count": 110,
      "outputs": []
    },
    {
      "cell_type": "code",
      "metadata": {
        "colab": {
          "base_uri": "https://localhost:8080/"
        },
        "id": "fCXdScoh2Q1Z",
        "outputId": "5727e8e5-b54e-4851-bb1d-591f138ff948"
      },
      "source": [
        "X_train,y_train = create_dataset(X_train, y_train, 100, step=50)\n",
        "X_test,y_test = create_dataset(X_test, y_test, 100, step=50)\n",
        "\n",
        "X_train.shape, y_train.shape"
      ],
      "execution_count": 111,
      "outputs": [
        {
          "output_type": "execute_result",
          "data": {
            "text/plain": [
              "((5324, 100, 6), (5324, 1))"
            ]
          },
          "metadata": {
            "tags": []
          },
          "execution_count": 111
        }
      ]
    },
    {
      "cell_type": "code",
      "metadata": {
        "id": "wC3IO2v63kJp"
      },
      "source": [
        "X_train = np.reshape(X_train, (X_train.shape[0], X_train.shape[1], X_train.shape[2], 1))\n",
        "X_test = np.reshape(X_test, (X_test.shape[0], X_test.shape[1], X_test.shape[2], 1))"
      ],
      "execution_count": 112,
      "outputs": []
    },
    {
      "cell_type": "code",
      "metadata": {
        "id": "uRG0GJ8c2WFQ"
      },
      "source": [
        "callbacks = [keras.callbacks.ModelCheckpoint(\"/content/drive/MyDrive/modelDL.h5\", save_best_only=True, monitor=\"val_loss\"),\n",
        "             keras.callbacks.EarlyStopping(monitor=\"val_loss\", patience=50, verbose=1)]\n",
        "\n",
        "nb_classes = len(label_map)\n",
        "\n",
        "x , y = build_resnet(X_train.shape[1:], nb_classes)\n",
        "model = keras.models.Model(inputs=x, outputs=y)\n",
        "\n",
        "model.compile(optimizer=\"adam\", loss=\"sparse_categorical_crossentropy\", metrics=[\"sparse_categorical_accuracy\"],)"
      ],
      "execution_count": 113,
      "outputs": []
    },
    {
      "cell_type": "code",
      "metadata": {
        "id": "96FzqiMz97E6",
        "colab": {
          "base_uri": "https://localhost:8080/"
        },
        "outputId": "8ab9a198-245a-403e-d875-d916b7a9d329"
      },
      "source": [
        "model_history = model.fit(X_train, y_train, epochs= 1000, validation_data=(X_test,y_test), callbacks=callbacks)"
      ],
      "execution_count": 114,
      "outputs": [
        {
          "output_type": "stream",
          "text": [
            "Epoch 1/1000\n",
            "167/167 [==============================] - 33s 176ms/step - loss: 1.1072 - sparse_categorical_accuracy: 0.6214 - val_loss: 7.7801 - val_sparse_categorical_accuracy: 0.3391\n"
          ],
          "name": "stdout"
        },
        {
          "output_type": "stream",
          "text": [
            "/usr/local/lib/python3.7/dist-packages/keras/utils/generic_utils.py:497: CustomMaskWarning: Custom mask layers require a config and must override get_config. When loading, the custom mask layer must be passed to the custom_objects argument.\n",
            "  category=CustomMaskWarning)\n"
          ],
          "name": "stderr"
        },
        {
          "output_type": "stream",
          "text": [
            "Epoch 2/1000\n",
            "167/167 [==============================] - 28s 168ms/step - loss: 0.3437 - sparse_categorical_accuracy: 0.8865 - val_loss: 1.2002 - val_sparse_categorical_accuracy: 0.7338\n",
            "Epoch 3/1000\n",
            "167/167 [==============================] - 29s 171ms/step - loss: 0.2374 - sparse_categorical_accuracy: 0.9136 - val_loss: 0.4344 - val_sparse_categorical_accuracy: 0.8463\n",
            "Epoch 4/1000\n",
            "167/167 [==============================] - 28s 170ms/step - loss: 0.1825 - sparse_categorical_accuracy: 0.9389 - val_loss: 1.1665 - val_sparse_categorical_accuracy: 0.8297\n",
            "Epoch 5/1000\n",
            "167/167 [==============================] - 29s 172ms/step - loss: 0.1408 - sparse_categorical_accuracy: 0.9550 - val_loss: 0.2186 - val_sparse_categorical_accuracy: 0.9127\n",
            "Epoch 6/1000\n",
            "167/167 [==============================] - 28s 170ms/step - loss: 0.0993 - sparse_categorical_accuracy: 0.9652 - val_loss: 0.2244 - val_sparse_categorical_accuracy: 0.9235\n",
            "Epoch 7/1000\n",
            "167/167 [==============================] - 28s 170ms/step - loss: 0.0780 - sparse_categorical_accuracy: 0.9736 - val_loss: 0.3329 - val_sparse_categorical_accuracy: 0.8918\n",
            "Epoch 8/1000\n",
            "167/167 [==============================] - 28s 170ms/step - loss: 0.1058 - sparse_categorical_accuracy: 0.9626 - val_loss: 1.1823 - val_sparse_categorical_accuracy: 0.6558\n",
            "Epoch 9/1000\n",
            "167/167 [==============================] - 29s 172ms/step - loss: 0.0864 - sparse_categorical_accuracy: 0.9711 - val_loss: 0.2748 - val_sparse_categorical_accuracy: 0.8975\n",
            "Epoch 10/1000\n",
            "167/167 [==============================] - 29s 171ms/step - loss: 0.0562 - sparse_categorical_accuracy: 0.9815 - val_loss: 0.2257 - val_sparse_categorical_accuracy: 0.9069\n",
            "Epoch 11/1000\n",
            "167/167 [==============================] - 29s 172ms/step - loss: 0.0903 - sparse_categorical_accuracy: 0.9683 - val_loss: 0.2532 - val_sparse_categorical_accuracy: 0.9105\n",
            "Epoch 12/1000\n",
            "167/167 [==============================] - 28s 169ms/step - loss: 0.0540 - sparse_categorical_accuracy: 0.9824 - val_loss: 0.6865 - val_sparse_categorical_accuracy: 0.7879\n",
            "Epoch 13/1000\n",
            "167/167 [==============================] - 28s 170ms/step - loss: 0.0336 - sparse_categorical_accuracy: 0.9897 - val_loss: 0.4253 - val_sparse_categorical_accuracy: 0.8961\n",
            "Epoch 14/1000\n",
            "167/167 [==============================] - 28s 170ms/step - loss: 0.0460 - sparse_categorical_accuracy: 0.9836 - val_loss: 0.4372 - val_sparse_categorical_accuracy: 0.8947\n",
            "Epoch 15/1000\n",
            "167/167 [==============================] - 28s 170ms/step - loss: 0.0405 - sparse_categorical_accuracy: 0.9856 - val_loss: 1.1110 - val_sparse_categorical_accuracy: 0.8369\n",
            "Epoch 16/1000\n",
            "167/167 [==============================] - 28s 169ms/step - loss: 0.0397 - sparse_categorical_accuracy: 0.9876 - val_loss: 0.3853 - val_sparse_categorical_accuracy: 0.8911\n",
            "Epoch 17/1000\n",
            "167/167 [==============================] - 28s 170ms/step - loss: 0.0576 - sparse_categorical_accuracy: 0.9812 - val_loss: 0.5820 - val_sparse_categorical_accuracy: 0.8939\n",
            "Epoch 18/1000\n",
            "167/167 [==============================] - 29s 172ms/step - loss: 0.0389 - sparse_categorical_accuracy: 0.9872 - val_loss: 0.5480 - val_sparse_categorical_accuracy: 0.8593\n",
            "Epoch 19/1000\n",
            "167/167 [==============================] - 28s 170ms/step - loss: 0.0736 - sparse_categorical_accuracy: 0.9752 - val_loss: 0.4648 - val_sparse_categorical_accuracy: 0.8745\n",
            "Epoch 20/1000\n",
            "167/167 [==============================] - 28s 170ms/step - loss: 0.0285 - sparse_categorical_accuracy: 0.9891 - val_loss: 0.2727 - val_sparse_categorical_accuracy: 0.8947\n",
            "Epoch 21/1000\n",
            "167/167 [==============================] - 29s 171ms/step - loss: 0.0225 - sparse_categorical_accuracy: 0.9941 - val_loss: 0.6674 - val_sparse_categorical_accuracy: 0.8766\n",
            "Epoch 22/1000\n",
            "167/167 [==============================] - 29s 171ms/step - loss: 0.0202 - sparse_categorical_accuracy: 0.9937 - val_loss: 0.7002 - val_sparse_categorical_accuracy: 0.8557\n",
            "Epoch 23/1000\n",
            "167/167 [==============================] - 29s 174ms/step - loss: 0.0306 - sparse_categorical_accuracy: 0.9888 - val_loss: 0.4635 - val_sparse_categorical_accuracy: 0.9026\n",
            "Epoch 24/1000\n",
            "167/167 [==============================] - 28s 170ms/step - loss: 0.0227 - sparse_categorical_accuracy: 0.9911 - val_loss: 0.4105 - val_sparse_categorical_accuracy: 0.8990\n",
            "Epoch 25/1000\n",
            "167/167 [==============================] - 28s 170ms/step - loss: 0.0282 - sparse_categorical_accuracy: 0.9906 - val_loss: 5.5132 - val_sparse_categorical_accuracy: 0.4127\n",
            "Epoch 26/1000\n",
            "167/167 [==============================] - 29s 173ms/step - loss: 0.0925 - sparse_categorical_accuracy: 0.9698 - val_loss: 0.6716 - val_sparse_categorical_accuracy: 0.8723\n",
            "Epoch 27/1000\n",
            "167/167 [==============================] - 29s 171ms/step - loss: 0.0270 - sparse_categorical_accuracy: 0.9904 - val_loss: 0.4204 - val_sparse_categorical_accuracy: 0.8889\n",
            "Epoch 28/1000\n",
            "167/167 [==============================] - 29s 171ms/step - loss: 0.0179 - sparse_categorical_accuracy: 0.9936 - val_loss: 0.5307 - val_sparse_categorical_accuracy: 0.8954\n",
            "Epoch 29/1000\n",
            "167/167 [==============================] - 29s 171ms/step - loss: 0.0240 - sparse_categorical_accuracy: 0.9910 - val_loss: 0.5940 - val_sparse_categorical_accuracy: 0.8434\n",
            "Epoch 30/1000\n",
            "167/167 [==============================] - 29s 172ms/step - loss: 0.0246 - sparse_categorical_accuracy: 0.9925 - val_loss: 0.6206 - val_sparse_categorical_accuracy: 0.9091\n",
            "Epoch 31/1000\n",
            "167/167 [==============================] - 29s 171ms/step - loss: 0.0382 - sparse_categorical_accuracy: 0.9878 - val_loss: 1.2413 - val_sparse_categorical_accuracy: 0.7771\n",
            "Epoch 32/1000\n",
            "167/167 [==============================] - 28s 171ms/step - loss: 0.0221 - sparse_categorical_accuracy: 0.9923 - val_loss: 0.5549 - val_sparse_categorical_accuracy: 0.8810\n",
            "Epoch 33/1000\n",
            "167/167 [==============================] - 29s 172ms/step - loss: 0.0243 - sparse_categorical_accuracy: 0.9921 - val_loss: 0.2837 - val_sparse_categorical_accuracy: 0.9141\n",
            "Epoch 34/1000\n",
            "167/167 [==============================] - 29s 172ms/step - loss: 0.0285 - sparse_categorical_accuracy: 0.9906 - val_loss: 0.7173 - val_sparse_categorical_accuracy: 0.8658\n",
            "Epoch 35/1000\n",
            "167/167 [==============================] - 29s 171ms/step - loss: 0.0176 - sparse_categorical_accuracy: 0.9953 - val_loss: 0.2594 - val_sparse_categorical_accuracy: 0.9286\n",
            "Epoch 36/1000\n",
            "167/167 [==============================] - 28s 171ms/step - loss: 0.0156 - sparse_categorical_accuracy: 0.9961 - val_loss: 0.4258 - val_sparse_categorical_accuracy: 0.9062\n",
            "Epoch 37/1000\n",
            "167/167 [==============================] - 29s 171ms/step - loss: 0.0173 - sparse_categorical_accuracy: 0.9962 - val_loss: 0.2681 - val_sparse_categorical_accuracy: 0.9221\n",
            "Epoch 38/1000\n",
            "167/167 [==============================] - 29s 171ms/step - loss: 0.0210 - sparse_categorical_accuracy: 0.9938 - val_loss: 0.7942 - val_sparse_categorical_accuracy: 0.8492\n",
            "Epoch 39/1000\n",
            "167/167 [==============================] - 28s 170ms/step - loss: 0.0313 - sparse_categorical_accuracy: 0.9903 - val_loss: 0.8480 - val_sparse_categorical_accuracy: 0.7424\n",
            "Epoch 40/1000\n",
            "167/167 [==============================] - 29s 171ms/step - loss: 0.0355 - sparse_categorical_accuracy: 0.9861 - val_loss: 0.4039 - val_sparse_categorical_accuracy: 0.9062\n",
            "Epoch 41/1000\n",
            "167/167 [==============================] - 28s 169ms/step - loss: 0.0117 - sparse_categorical_accuracy: 0.9958 - val_loss: 0.6816 - val_sparse_categorical_accuracy: 0.8824\n",
            "Epoch 42/1000\n",
            "167/167 [==============================] - 29s 171ms/step - loss: 0.0094 - sparse_categorical_accuracy: 0.9978 - val_loss: 0.5240 - val_sparse_categorical_accuracy: 0.8961\n",
            "Epoch 43/1000\n",
            "167/167 [==============================] - 28s 170ms/step - loss: 0.0400 - sparse_categorical_accuracy: 0.9867 - val_loss: 0.4429 - val_sparse_categorical_accuracy: 0.8990\n",
            "Epoch 44/1000\n",
            "167/167 [==============================] - 29s 172ms/step - loss: 0.0223 - sparse_categorical_accuracy: 0.9933 - val_loss: 0.6075 - val_sparse_categorical_accuracy: 0.8932\n",
            "Epoch 45/1000\n",
            "167/167 [==============================] - 28s 170ms/step - loss: 0.0055 - sparse_categorical_accuracy: 0.9988 - val_loss: 0.7366 - val_sparse_categorical_accuracy: 0.8846\n",
            "Epoch 46/1000\n",
            "167/167 [==============================] - 28s 170ms/step - loss: 0.0147 - sparse_categorical_accuracy: 0.9950 - val_loss: 0.8016 - val_sparse_categorical_accuracy: 0.8665\n",
            "Epoch 47/1000\n",
            "167/167 [==============================] - 29s 173ms/step - loss: 0.0134 - sparse_categorical_accuracy: 0.9958 - val_loss: 0.5621 - val_sparse_categorical_accuracy: 0.9012\n",
            "Epoch 48/1000\n",
            "167/167 [==============================] - 29s 172ms/step - loss: 0.0055 - sparse_categorical_accuracy: 0.9987 - val_loss: 0.6002 - val_sparse_categorical_accuracy: 0.9040\n",
            "Epoch 49/1000\n",
            "167/167 [==============================] - 28s 171ms/step - loss: 0.0048 - sparse_categorical_accuracy: 0.9990 - val_loss: 0.3990 - val_sparse_categorical_accuracy: 0.9098\n",
            "Epoch 50/1000\n",
            "167/167 [==============================] - 29s 172ms/step - loss: 0.0066 - sparse_categorical_accuracy: 0.9981 - val_loss: 0.5575 - val_sparse_categorical_accuracy: 0.8874\n",
            "Epoch 51/1000\n",
            "167/167 [==============================] - 29s 171ms/step - loss: 0.0132 - sparse_categorical_accuracy: 0.9963 - val_loss: 0.5165 - val_sparse_categorical_accuracy: 0.9062\n",
            "Epoch 52/1000\n",
            "167/167 [==============================] - 28s 171ms/step - loss: 0.0113 - sparse_categorical_accuracy: 0.9977 - val_loss: 0.7636 - val_sparse_categorical_accuracy: 0.8896\n",
            "Epoch 53/1000\n",
            "167/167 [==============================] - 29s 171ms/step - loss: 0.0106 - sparse_categorical_accuracy: 0.9967 - val_loss: 0.7931 - val_sparse_categorical_accuracy: 0.8312\n",
            "Epoch 54/1000\n",
            "167/167 [==============================] - 28s 170ms/step - loss: 0.0200 - sparse_categorical_accuracy: 0.9942 - val_loss: 1.1761 - val_sparse_categorical_accuracy: 0.8102\n",
            "Epoch 55/1000\n",
            "167/167 [==============================] - 29s 172ms/step - loss: 0.0550 - sparse_categorical_accuracy: 0.9864 - val_loss: 0.4803 - val_sparse_categorical_accuracy: 0.9048\n",
            "Epoch 00055: early stopping\n"
          ],
          "name": "stdout"
        }
      ]
    },
    {
      "cell_type": "code",
      "metadata": {
        "id": "TBKkWfGL_QJE",
        "colab": {
          "base_uri": "https://localhost:8080/",
          "height": 404
        },
        "outputId": "a5fbbf0b-d3e6-4f61-f6a9-b89d815371c3"
      },
      "source": [
        "train_loss = model_history.history['loss']\n",
        "val_loss = model_history.history['val_loss']\n",
        "train_accuracy = model_history.history['sparse_categorical_accuracy']\n",
        "val_accuracy = model_history.history['val_sparse_categorical_accuracy']\n",
        "\n",
        "plt.figure(figsize=(12,6))\n",
        "\n",
        "plt.subplot(1,2,1)\n",
        "plt.plot(train_loss, 'r', label='Training loss')\n",
        "plt.plot(val_loss, 'b', label='Validation loss')\n",
        "plt.title('Training and Validation Loss')\n",
        "plt.xlabel('Epoch')\n",
        "plt.ylabel('Loss Value')\n",
        "plt.legend()\n",
        "\n",
        "plt.subplot(1,2,2)\n",
        "plt.plot(train_accuracy, 'r', label='Training Accuracy')\n",
        "plt.plot(val_accuracy, 'b', label='Validation Accuracy')\n",
        "plt.title('Training and Validation Accuracy')\n",
        "plt.xlabel('Epoch')\n",
        "plt.ylabel('Accuracy')\n",
        "plt.legend()\n",
        "\n",
        "plt.show()"
      ],
      "execution_count": 115,
      "outputs": [
        {
          "output_type": "display_data",
          "data": {
            "image/png": "[encoded data removed]",
            "text/plain": [
              "<Figure size 864x432 with 2 Axes>"
            ]
          },
          "metadata": {
            "tags": [],
            "needs_background": "light"
          }
        }
      ]
    },
    {
      "cell_type": "code",
      "metadata": {
        "id": "_ToluDXQ_T7J",
        "colab": {
          "base_uri": "https://localhost:8080/"
        },
        "outputId": "b992160b-8c98-4b37-c7d4-f0d796562267"
      },
      "source": [
        "model = keras.models.load_model('/content/drive/MyDrive/modelDL.h5')\n",
        "\n",
        "train_loss, train_acc = model.evaluate(X_train,y_train)\n",
        "test_loss, test_acc = model.evaluate(X_test,y_test)\n",
        "\n",
        "print(\"Train accuracy\", round(train_acc*100, 2),'%')\n",
        "print(\"Train loss\", train_loss)\n",
        "print(\"Test accuracy\", round(test_acc*100, 2),'%')\n",
        "print(\"Test loss\", test_loss)"
      ],
      "execution_count": 116,
      "outputs": [
        {
          "output_type": "stream",
          "text": [
            "167/167 [==============================] - 8s 43ms/step - loss: 0.1316 - sparse_categorical_accuracy: 0.9517\n",
            "44/44 [==============================] - 2s 42ms/step - loss: 0.2186 - sparse_categorical_accuracy: 0.9127\n",
            "Train accuracy 95.17 %\n",
            "Train loss 0.1315745711326599\n",
            "Test accuracy 91.27 %\n",
            "Test loss 0.21862006187438965\n"
          ],
          "name": "stdout"
        }
      ]
    },
    {
      "cell_type": "code",
      "metadata": {
        "id": "ErT7rI4A_WkA"
      },
      "source": [
        "pred = model.predict(X_test)\n",
        "pred = np.argmax(pred, axis = 1)\n",
        "pred = pred.reshape(-1,1)"
      ],
      "execution_count": 117,
      "outputs": []
    },
    {
      "cell_type": "code",
      "metadata": {
        "id": "1Kl6NOdL_eW4",
        "colab": {
          "base_uri": "https://localhost:8080/",
          "height": 607
        },
        "outputId": "6ee61451-bb81-4169-f4a8-b444eba59e1c"
      },
      "source": [
        "plt.figure(figsize=(12,8))\n",
        "conf_matrix = confusion_matrix(y_test,pred)\n",
        "sns.heatmap(conf_matrix, xticklabels= label_map.values(), yticklabels= label_map.values(), annot=True, fmt=\"d\", cmap=\"Blues\")\n",
        "plt.show()"
      ],
      "execution_count": 118,
      "outputs": [
        {
          "output_type": "display_data",
          "data": {
            "image/png": "[encoded data removed]",
            "text/plain": [
              "<Figure size 864x576 with 2 Axes>"
            ]
          },
          "metadata": {
            "tags": [],
            "needs_background": "light"
          }
        }
      ]
    }
  ]
}