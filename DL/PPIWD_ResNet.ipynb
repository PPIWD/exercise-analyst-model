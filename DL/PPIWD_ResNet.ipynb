{
  "nbformat": 4,
  "nbformat_minor": 0,
  "metadata": {
    "colab": {
      "name": "PPIWD_ResNet.ipynb",
      "provenance": [],
      "collapsed_sections": []
    },
    "kernelspec": {
      "name": "python3",
      "display_name": "Python 3"
    },
    "language_info": {
      "name": "python"
    },
    "accelerator": "GPU"
  },
  "cells": [
    {
      "cell_type": "code",
      "metadata": {
        "id": "TOGM52XKalhM",
        "cellView": "form"
      },
      "source": [
        "#@title Imports\n",
        "from tensorflow import keras\n",
        "import numpy as np\n",
        "import pandas as pd\n",
        "\n",
        "import seaborn as sns\n",
        "import matplotlib.pyplot as plt\n",
        "import tensorflow as tf\n",
        "from keras import layers\n",
        "import keras\n",
        "from google.colab import drive\n",
        "\n",
        "from sklearn.utils import resample\n",
        "from scipy import stats\n",
        "\n",
        "from sklearn.metrics import confusion_matrix, classification_report\n",
        "\n",
        "%matplotlib inline\n",
        "tf.random.set_seed(42)"
      ],
      "execution_count": 44,
      "outputs": []
    },
    {
      "cell_type": "code",
      "metadata": {
        "id": "ILDrvsyi6mCz"
      },
      "source": [
        "#@title Model\n",
        "def build_resnet(input_shape, nb_classes, n_feature_maps = 64):\n",
        "    x = keras.layers.Input(shape=(input_shape))\n",
        "    conv_x = keras.layers.BatchNormalization()(x)\n",
        "    conv_x = keras.layers.Conv2D(n_feature_maps, 8, 1, padding='same')(conv_x)\n",
        "    conv_x = keras.layers.BatchNormalization()(conv_x)\n",
        "    conv_x = keras.layers.Activation('relu')(conv_x)\n",
        "     \n",
        "    conv_y = keras.layers.Conv2D(n_feature_maps, 5, 1, padding='same')(conv_x)\n",
        "    conv_y = keras.layers.BatchNormalization()(conv_y)\n",
        "    conv_y = keras.layers.Activation('relu')(conv_y)\n",
        "     \n",
        "    conv_z = keras.layers.Conv2D(n_feature_maps, 3, 1, padding='same')(conv_y)\n",
        "    conv_z = keras.layers.BatchNormalization()(conv_z)\n",
        "     \n",
        "    is_expand_channels = not (input_shape[-1] == n_feature_maps)\n",
        "    if is_expand_channels:\n",
        "        shortcut_y = keras.layers.Conv2D(n_feature_maps, 1, 1,padding='same')(x)\n",
        "        shortcut_y = keras.layers.BatchNormalization()(shortcut_y)\n",
        "    else:\n",
        "        shortcut_y = keras.layers.BatchNormalization()(x)\n",
        "\n",
        "    y = keras.layers.Add()([shortcut_y, conv_z])\n",
        "    y = keras.layers.Activation('relu')(y)\n",
        "     \n",
        "    x1 = y\n",
        "    conv_x = keras.layers.Conv2D(n_feature_maps*2, 8, 1, padding='same')(x1)\n",
        "    conv_x = keras.layers.BatchNormalization()(conv_x)\n",
        "    conv_x = keras.layers.Activation('relu')(conv_x)\n",
        "     \n",
        "    conv_y = keras.layers.Conv2D(n_feature_maps*2, 5, 1, padding='same')(conv_x)\n",
        "    conv_y = keras.layers.BatchNormalization()(conv_y)\n",
        "    conv_y = keras.layers.Activation('relu')(conv_y)\n",
        "     \n",
        "    conv_z = keras.layers.Conv2D(n_feature_maps*2, 3, 1, padding='same')(conv_y)\n",
        "    conv_z = keras.layers.BatchNormalization()(conv_z)\n",
        "     \n",
        "    is_expand_channels = not (input_shape[-1] == n_feature_maps*2)\n",
        "    if is_expand_channels:\n",
        "        shortcut_y = keras.layers.Conv2D(n_feature_maps*2, 1, 1,padding='same')(x1)\n",
        "        shortcut_y = keras.layers.BatchNormalization()(shortcut_y)\n",
        "    else:\n",
        "        shortcut_y = keras.layers.BatchNormalization()(x1)\n",
        "\n",
        "    y = keras.layers.Add()([shortcut_y, conv_z])\n",
        "    y = keras.layers.Activation('relu')(y)\n",
        "     \n",
        "    x1 = y\n",
        "    conv_x = keras.layers.Conv2D(n_feature_maps*3, 8, 1, padding='same')(x1)\n",
        "    conv_x = keras.layers.BatchNormalization()(conv_x)\n",
        "    conv_x = keras.layers.Activation('relu')(conv_x)\n",
        "     \n",
        "    conv_y = keras.layers.Conv2D(n_feature_maps*3, 5, 1, padding='same')(conv_x)\n",
        "    conv_y = keras.layers.BatchNormalization()(conv_y)\n",
        "    conv_y = keras.layers.Activation('relu')(conv_y)\n",
        "     \n",
        "    conv_z = keras.layers.Conv2D(n_feature_maps*3, 3, 1, padding='same')(conv_y)\n",
        "    conv_z = keras.layers.BatchNormalization()(conv_z)\n",
        "\n",
        "    is_expand_channels = not (input_shape[-1] == n_feature_maps*2)\n",
        "    if is_expand_channels:\n",
        "        shortcut_y = keras.layers.Conv2D(n_feature_maps*3, 1, 1,padding='same')(x1)\n",
        "        shortcut_y = keras.layers.BatchNormalization()(shortcut_y)\n",
        "    else:\n",
        "        shortcut_y = keras.layers.BatchNormalization()(x1)\n",
        "\n",
        "    y = keras.layers.Add()([shortcut_y, conv_z])\n",
        "    y = keras.layers.Activation('relu')(y)\n",
        "     \n",
        "    full = keras.layers.GlobalAveragePooling2D()(y)\n",
        "    out = keras.layers.Dense(nb_classes, activation='softmax')(full)\n",
        "\n",
        "    return x, out"
      ],
      "execution_count": 45,
      "outputs": []
    },
    {
      "cell_type": "code",
      "metadata": {
        "colab": {
          "base_uri": "https://localhost:8080/"
        },
        "id": "B7kQodDC2Ax5",
        "cellView": "form",
        "outputId": "4f430c76-d366-4c1f-8683-72d5aa6c46d5"
      },
      "source": [
        "#@title Data download\n",
        "drive.mount('/content/drive/')\n",
        "\n",
        "!cp \"/content/drive/MyDrive/boiled_data.csv\" \"/home/\"\n",
        "df = pd.read_csv('/home/boiled_data.csv')"
      ],
      "execution_count": 46,
      "outputs": [
        {
          "output_type": "stream",
          "text": [
            "Drive already mounted at /content/drive/; to attempt to forcibly remount, call drive.mount(\"/content/drive/\", force_remount=True).\n"
          ],
          "name": "stdout"
        }
      ]
    },
    {
      "cell_type": "code",
      "metadata": {
        "colab": {
          "base_uri": "https://localhost:8080/"
        },
        "id": "vnHoHIQN2Bb4",
        "cellView": "form",
        "outputId": "2f38ffca-1ed4-4969-cd21-3b366e3524da"
      },
      "source": [
        "#@title Downsampling\n",
        "df_majority = df[df.Activity==0]\n",
        "df_minorities = df[df.Activity!=0]\n",
        " \n",
        "df_majority_downsampled = resample(df_majority,n_samples=30000, random_state=42)\n",
        "df = pd.concat([df_majority_downsampled, df_minorities])\n",
        "df.Activity.value_counts()"
      ],
      "execution_count": 47,
      "outputs": [
        {
          "output_type": "execute_result",
          "data": {
            "text/plain": [
              "11    30720\n",
              "10    30720\n",
              "9     30720\n",
              "5     30720\n",
              "4     30720\n",
              "3     30720\n",
              "2     30720\n",
              "1     30720\n",
              "0     30000\n",
              "7     29441\n",
              "8     29337\n",
              "6     28315\n",
              "12    10342\n",
              "Name: Activity, dtype: int64"
            ]
          },
          "metadata": {
            "tags": []
          },
          "execution_count": 47
        }
      ]
    },
    {
      "cell_type": "code",
      "metadata": {
        "id": "YNHbxkWX2FcY"
      },
      "source": [
        "df1 = df.copy()\n",
        "\n",
        "for feature in df1.columns[:-2]:\n",
        "  lower_range = np.quantile(df[feature],0.01)\n",
        "  upper_range = np.quantile(df[feature],0.99)\n",
        "\n",
        "  df1 = df1.drop(df1[(df1[feature]>upper_range) | (df1[feature]<lower_range)].index, axis=0)"
      ],
      "execution_count": 48,
      "outputs": []
    },
    {
      "cell_type": "code",
      "metadata": {
        "id": "lvdJSXz32HPB"
      },
      "source": [
        "label_map = {\n",
        "    0: 'Nothing',\n",
        "    1: 'Standing still',  \n",
        "    2: 'Sitting and relaxing', \n",
        "    3: 'Lying down',  \n",
        "    4: 'Walking',  \n",
        "    5: 'Climbing stairs',  \n",
        "    6: 'Waist bends forward',\n",
        "    7: 'Frontal elevation of arms', \n",
        "    8: 'Knees bending (crouching)', \n",
        "    9: 'Cycling', \n",
        "    10: 'Jogging', \n",
        "    11: 'Running', \n",
        "    12: 'Jump front & back' \n",
        "}"
      ],
      "execution_count": 49,
      "outputs": []
    },
    {
      "cell_type": "code",
      "metadata": {
        "colab": {
          "base_uri": "https://localhost:8080/"
        },
        "id": "aHp5cnNJ2JLY",
        "outputId": "69858d5c-d50e-40b6-dedd-0f990551c8bc"
      },
      "source": [
        "train = df1[(df1['subject'] != 'subject9') & (df1['subject'] != 'subject10')]\n",
        "test = df1.drop(train.index, axis=0)\n",
        "train.shape,test.shape"
      ],
      "execution_count": 50,
      "outputs": [
        {
          "output_type": "execute_result",
          "data": {
            "text/plain": [
              "((266295, 8), (69386, 8))"
            ]
          },
          "metadata": {
            "tags": []
          },
          "execution_count": 50
        }
      ]
    },
    {
      "cell_type": "code",
      "metadata": {
        "colab": {
          "base_uri": "https://localhost:8080/"
        },
        "id": "V3hFo85q2NQ8",
        "outputId": "46f034ea-7841-4c56-ce6e-9d729af823a6"
      },
      "source": [
        "X_train = train.drop(['Activity', 'subject'],axis=1)\n",
        "y_train = train['Activity']\n",
        "X_test = test.drop(['Activity', 'subject'],axis=1)\n",
        "y_test = test['Activity']\n",
        "\n",
        "X_train.shape,y_train.shape,X_test.shape,y_test.shape"
      ],
      "execution_count": 51,
      "outputs": [
        {
          "output_type": "execute_result",
          "data": {
            "text/plain": [
              "((266295, 6), (266295,), (69386, 6), (69386,))"
            ]
          },
          "metadata": {
            "tags": []
          },
          "execution_count": 51
        }
      ]
    },
    {
      "cell_type": "code",
      "metadata": {
        "id": "xbzkFz602QaA"
      },
      "source": [
        "def create_dataset(X, y, time_steps, step=1):\n",
        "    Xs, ys = [], []\n",
        "    for i in range(0, len(X) - time_steps, step):\n",
        "        x = X.iloc[i:(i + time_steps)].values\n",
        "        labels = y.iloc[i: i + time_steps]\n",
        "        Xs.append(x)\n",
        "        ys.append(stats.mode(labels)[0][0])\n",
        "\n",
        "    return np.array(Xs), np.array(ys).reshape(-1, 1)"
      ],
      "execution_count": 52,
      "outputs": []
    },
    {
      "cell_type": "code",
      "metadata": {
        "colab": {
          "base_uri": "https://localhost:8080/"
        },
        "id": "fCXdScoh2Q1Z",
        "outputId": "da8df2f9-c7e6-4f5a-d535-1bed85f71e42"
      },
      "source": [
        "X_train,y_train = create_dataset(X_train, y_train, 100, step=50)\n",
        "X_test,y_test = create_dataset(X_test, y_test, 100, step=50)\n",
        "\n",
        "X_train.shape, y_train.shape"
      ],
      "execution_count": 53,
      "outputs": [
        {
          "output_type": "execute_result",
          "data": {
            "text/plain": [
              "((5324, 100, 6), (5324, 1))"
            ]
          },
          "metadata": {
            "tags": []
          },
          "execution_count": 53
        }
      ]
    },
    {
      "cell_type": "code",
      "metadata": {
        "id": "wC3IO2v63kJp"
      },
      "source": [
        "X_train = np.reshape(X_train, (X_train.shape[0], X_train.shape[1], X_train.shape[2], 1))\n",
        "X_test = np.reshape(X_test, (X_test.shape[0], X_test.shape[1], X_test.shape[2], 1))"
      ],
      "execution_count": 54,
      "outputs": []
    },
    {
      "cell_type": "code",
      "metadata": {
        "id": "uRG0GJ8c2WFQ"
      },
      "source": [
        "callbacks = [keras.callbacks.ModelCheckpoint(\"/content/drive/MyDrive/modelDL.h5\", save_best_only=True, monitor=\"val_loss\"),\n",
        "             keras.callbacks.EarlyStopping(monitor=\"val_loss\", patience=50, verbose=1)]\n",
        "\n",
        "nb_classes = len(label_map)\n",
        "\n",
        "x , y = build_resnet(X_train.shape[1:], nb_classes)\n",
        "model = keras.models.Model(inputs=x, outputs=y)\n",
        "\n",
        "model.compile(optimizer=\"adam\", loss=\"sparse_categorical_crossentropy\", metrics=[\"sparse_categorical_accuracy\"],)"
      ],
      "execution_count": null,
      "outputs": []
    },
    {
      "cell_type": "code",
      "metadata": {
        "id": "96FzqiMz97E6",
        "colab": {
          "base_uri": "https://localhost:8080/"
        },
        "outputId": "11e14cf9-d00b-49e3-902f-50ef33f2ec85"
      },
      "source": [
        "model_history = model.fit(X_train, y_train, epochs= 1000, validation_data=(X_test,y_test), callbacks=callbacks)"
      ],
      "execution_count": 56,
      "outputs": [
        {
          "output_type": "stream",
          "text": [
            "Epoch 1/1000\n",
            "167/167 [==============================] - 47s 239ms/step - loss: 1.0821 - sparse_categorical_accuracy: 0.6234 - val_loss: 7.7354 - val_sparse_categorical_accuracy: 0.3189\n"
          ],
          "name": "stdout"
        },
        {
          "output_type": "stream",
          "text": [
            "/usr/local/lib/python3.7/dist-packages/keras/utils/generic_utils.py:497: CustomMaskWarning: Custom mask layers require a config and must override get_config. When loading, the custom mask layer must be passed to the custom_objects argument.\n",
            "  category=CustomMaskWarning)\n"
          ],
          "name": "stderr"
        },
        {
          "output_type": "stream",
          "text": [
            "Epoch 2/1000\n",
            "167/167 [==============================] - 37s 219ms/step - loss: 0.3167 - sparse_categorical_accuracy: 0.8888 - val_loss: 8.6448 - val_sparse_categorical_accuracy: 0.1905\n",
            "Epoch 3/1000\n",
            "167/167 [==============================] - 37s 220ms/step - loss: 0.2173 - sparse_categorical_accuracy: 0.9171 - val_loss: 0.2305 - val_sparse_categorical_accuracy: 0.9040\n",
            "Epoch 4/1000\n",
            "167/167 [==============================] - 37s 220ms/step - loss: 0.1636 - sparse_categorical_accuracy: 0.9451 - val_loss: 0.3144 - val_sparse_categorical_accuracy: 0.8882\n",
            "Epoch 5/1000\n",
            "167/167 [==============================] - 37s 221ms/step - loss: 0.1268 - sparse_categorical_accuracy: 0.9587 - val_loss: 0.3010 - val_sparse_categorical_accuracy: 0.8651\n",
            "Epoch 6/1000\n",
            "167/167 [==============================] - 37s 220ms/step - loss: 0.1125 - sparse_categorical_accuracy: 0.9640 - val_loss: 0.2606 - val_sparse_categorical_accuracy: 0.9062\n",
            "Epoch 7/1000\n",
            "167/167 [==============================] - 37s 221ms/step - loss: 0.1057 - sparse_categorical_accuracy: 0.9654 - val_loss: 0.8525 - val_sparse_categorical_accuracy: 0.7872\n",
            "Epoch 8/1000\n",
            "167/167 [==============================] - 37s 220ms/step - loss: 0.1209 - sparse_categorical_accuracy: 0.9607 - val_loss: 0.1691 - val_sparse_categorical_accuracy: 0.9336\n",
            "Epoch 9/1000\n",
            "167/167 [==============================] - 37s 220ms/step - loss: 0.0751 - sparse_categorical_accuracy: 0.9724 - val_loss: 0.4384 - val_sparse_categorical_accuracy: 0.8586\n",
            "Epoch 10/1000\n",
            "167/167 [==============================] - 37s 220ms/step - loss: 0.0523 - sparse_categorical_accuracy: 0.9821 - val_loss: 0.2790 - val_sparse_categorical_accuracy: 0.8874\n",
            "Epoch 11/1000\n",
            "167/167 [==============================] - 37s 220ms/step - loss: 0.1243 - sparse_categorical_accuracy: 0.9580 - val_loss: 0.2810 - val_sparse_categorical_accuracy: 0.9062\n",
            "Epoch 12/1000\n",
            "167/167 [==============================] - 37s 220ms/step - loss: 0.0552 - sparse_categorical_accuracy: 0.9825 - val_loss: 0.3701 - val_sparse_categorical_accuracy: 0.8975\n",
            "Epoch 13/1000\n",
            "167/167 [==============================] - 37s 220ms/step - loss: 0.0479 - sparse_categorical_accuracy: 0.9852 - val_loss: 0.2851 - val_sparse_categorical_accuracy: 0.9235\n",
            "Epoch 14/1000\n",
            "167/167 [==============================] - 37s 220ms/step - loss: 0.0725 - sparse_categorical_accuracy: 0.9777 - val_loss: 0.5406 - val_sparse_categorical_accuracy: 0.8918\n",
            "Epoch 15/1000\n",
            "167/167 [==============================] - 37s 221ms/step - loss: 0.0492 - sparse_categorical_accuracy: 0.9853 - val_loss: 0.8076 - val_sparse_categorical_accuracy: 0.8608\n",
            "Epoch 16/1000\n",
            "167/167 [==============================] - 37s 220ms/step - loss: 0.0582 - sparse_categorical_accuracy: 0.9815 - val_loss: 0.4384 - val_sparse_categorical_accuracy: 0.8795\n",
            "Epoch 17/1000\n",
            "167/167 [==============================] - 37s 220ms/step - loss: 0.0573 - sparse_categorical_accuracy: 0.9799 - val_loss: 0.4293 - val_sparse_categorical_accuracy: 0.9084\n",
            "Epoch 18/1000\n",
            "167/167 [==============================] - 37s 220ms/step - loss: 0.0352 - sparse_categorical_accuracy: 0.9889 - val_loss: 0.5518 - val_sparse_categorical_accuracy: 0.9033\n",
            "Epoch 19/1000\n",
            "167/167 [==============================] - 37s 220ms/step - loss: 0.0424 - sparse_categorical_accuracy: 0.9869 - val_loss: 0.4186 - val_sparse_categorical_accuracy: 0.8932\n",
            "Epoch 20/1000\n",
            "167/167 [==============================] - 37s 220ms/step - loss: 0.0410 - sparse_categorical_accuracy: 0.9846 - val_loss: 0.5258 - val_sparse_categorical_accuracy: 0.8947\n",
            "Epoch 21/1000\n",
            "167/167 [==============================] - 37s 221ms/step - loss: 0.0389 - sparse_categorical_accuracy: 0.9874 - val_loss: 0.6135 - val_sparse_categorical_accuracy: 0.8802\n",
            "Epoch 22/1000\n",
            "167/167 [==============================] - 37s 221ms/step - loss: 0.0234 - sparse_categorical_accuracy: 0.9919 - val_loss: 1.0321 - val_sparse_categorical_accuracy: 0.8622\n",
            "Epoch 23/1000\n",
            "167/167 [==============================] - 37s 221ms/step - loss: 0.0241 - sparse_categorical_accuracy: 0.9926 - val_loss: 1.1159 - val_sparse_categorical_accuracy: 0.7439\n",
            "Epoch 24/1000\n",
            "167/167 [==============================] - 37s 221ms/step - loss: 0.0584 - sparse_categorical_accuracy: 0.9854 - val_loss: 0.3384 - val_sparse_categorical_accuracy: 0.9257\n",
            "Epoch 25/1000\n",
            "167/167 [==============================] - 37s 221ms/step - loss: 0.0256 - sparse_categorical_accuracy: 0.9900 - val_loss: 0.3320 - val_sparse_categorical_accuracy: 0.9069\n",
            "Epoch 26/1000\n",
            "167/167 [==============================] - 37s 221ms/step - loss: 0.0230 - sparse_categorical_accuracy: 0.9906 - val_loss: 0.4617 - val_sparse_categorical_accuracy: 0.8867\n",
            "Epoch 27/1000\n",
            "167/167 [==============================] - 37s 220ms/step - loss: 0.0309 - sparse_categorical_accuracy: 0.9877 - val_loss: 0.6087 - val_sparse_categorical_accuracy: 0.8391\n",
            "Epoch 28/1000\n",
            "167/167 [==============================] - 37s 220ms/step - loss: 0.0298 - sparse_categorical_accuracy: 0.9909 - val_loss: 0.5524 - val_sparse_categorical_accuracy: 0.8968\n",
            "Epoch 29/1000\n",
            "167/167 [==============================] - 37s 220ms/step - loss: 0.0603 - sparse_categorical_accuracy: 0.9789 - val_loss: 0.7490 - val_sparse_categorical_accuracy: 0.8636\n",
            "Epoch 30/1000\n",
            "167/167 [==============================] - 37s 220ms/step - loss: 0.0243 - sparse_categorical_accuracy: 0.9914 - val_loss: 0.6273 - val_sparse_categorical_accuracy: 0.8925\n",
            "Epoch 31/1000\n",
            "167/167 [==============================] - 37s 220ms/step - loss: 0.0531 - sparse_categorical_accuracy: 0.9814 - val_loss: 2.1351 - val_sparse_categorical_accuracy: 0.6486\n",
            "Epoch 32/1000\n",
            "167/167 [==============================] - 37s 220ms/step - loss: 0.0718 - sparse_categorical_accuracy: 0.9778 - val_loss: 0.3542 - val_sparse_categorical_accuracy: 0.8911\n",
            "Epoch 33/1000\n",
            "167/167 [==============================] - 37s 220ms/step - loss: 0.0349 - sparse_categorical_accuracy: 0.9880 - val_loss: 0.5049 - val_sparse_categorical_accuracy: 0.8961\n",
            "Epoch 34/1000\n",
            "167/167 [==============================] - 37s 220ms/step - loss: 0.0199 - sparse_categorical_accuracy: 0.9926 - val_loss: 0.9338 - val_sparse_categorical_accuracy: 0.8723\n",
            "Epoch 35/1000\n",
            "167/167 [==============================] - 37s 220ms/step - loss: 0.0102 - sparse_categorical_accuracy: 0.9975 - val_loss: 0.3482 - val_sparse_categorical_accuracy: 0.9026\n",
            "Epoch 36/1000\n",
            "167/167 [==============================] - 37s 220ms/step - loss: 0.0151 - sparse_categorical_accuracy: 0.9960 - val_loss: 0.7125 - val_sparse_categorical_accuracy: 0.8737\n",
            "Epoch 37/1000\n",
            "167/167 [==============================] - 37s 220ms/step - loss: 0.0064 - sparse_categorical_accuracy: 0.9987 - val_loss: 0.6854 - val_sparse_categorical_accuracy: 0.8947\n",
            "Epoch 38/1000\n",
            "167/167 [==============================] - 37s 220ms/step - loss: 0.0269 - sparse_categorical_accuracy: 0.9904 - val_loss: 0.5587 - val_sparse_categorical_accuracy: 0.9069\n",
            "Epoch 39/1000\n",
            "167/167 [==============================] - 37s 220ms/step - loss: 0.0643 - sparse_categorical_accuracy: 0.9796 - val_loss: 0.4149 - val_sparse_categorical_accuracy: 0.9033\n",
            "Epoch 40/1000\n",
            "167/167 [==============================] - 37s 220ms/step - loss: 0.0164 - sparse_categorical_accuracy: 0.9936 - val_loss: 0.4448 - val_sparse_categorical_accuracy: 0.9076\n",
            "Epoch 41/1000\n",
            "167/167 [==============================] - 37s 220ms/step - loss: 0.0090 - sparse_categorical_accuracy: 0.9971 - val_loss: 0.5899 - val_sparse_categorical_accuracy: 0.8730\n",
            "Epoch 42/1000\n",
            "167/167 [==============================] - 37s 220ms/step - loss: 0.0134 - sparse_categorical_accuracy: 0.9951 - val_loss: 0.3837 - val_sparse_categorical_accuracy: 0.8932\n",
            "Epoch 43/1000\n",
            "167/167 [==============================] - 37s 221ms/step - loss: 0.0416 - sparse_categorical_accuracy: 0.9866 - val_loss: 0.2802 - val_sparse_categorical_accuracy: 0.9199\n",
            "Epoch 44/1000\n",
            "167/167 [==============================] - 37s 220ms/step - loss: 0.0197 - sparse_categorical_accuracy: 0.9931 - val_loss: 0.6035 - val_sparse_categorical_accuracy: 0.8939\n",
            "Epoch 45/1000\n",
            "167/167 [==============================] - 37s 220ms/step - loss: 0.0046 - sparse_categorical_accuracy: 0.9989 - val_loss: 0.8433 - val_sparse_categorical_accuracy: 0.8716\n",
            "Epoch 46/1000\n",
            "167/167 [==============================] - 37s 220ms/step - loss: 0.0176 - sparse_categorical_accuracy: 0.9949 - val_loss: 0.7419 - val_sparse_categorical_accuracy: 0.8752\n",
            "Epoch 47/1000\n",
            "167/167 [==============================] - 37s 220ms/step - loss: 0.0139 - sparse_categorical_accuracy: 0.9958 - val_loss: 0.5635 - val_sparse_categorical_accuracy: 0.8680\n",
            "Epoch 48/1000\n",
            "167/167 [==============================] - 37s 220ms/step - loss: 0.0225 - sparse_categorical_accuracy: 0.9921 - val_loss: 0.6614 - val_sparse_categorical_accuracy: 0.8867\n",
            "Epoch 49/1000\n",
            "167/167 [==============================] - 37s 220ms/step - loss: 0.0095 - sparse_categorical_accuracy: 0.9972 - val_loss: 0.6737 - val_sparse_categorical_accuracy: 0.8644\n",
            "Epoch 50/1000\n",
            "167/167 [==============================] - 37s 220ms/step - loss: 0.0411 - sparse_categorical_accuracy: 0.9858 - val_loss: 0.8115 - val_sparse_categorical_accuracy: 0.8644\n",
            "Epoch 51/1000\n",
            "167/167 [==============================] - 37s 220ms/step - loss: 0.0222 - sparse_categorical_accuracy: 0.9920 - val_loss: 0.5464 - val_sparse_categorical_accuracy: 0.8911\n",
            "Epoch 52/1000\n",
            "167/167 [==============================] - 37s 220ms/step - loss: 0.0130 - sparse_categorical_accuracy: 0.9952 - val_loss: 0.8209 - val_sparse_categorical_accuracy: 0.8824\n",
            "Epoch 53/1000\n",
            "167/167 [==============================] - 37s 221ms/step - loss: 0.0096 - sparse_categorical_accuracy: 0.9976 - val_loss: 0.5974 - val_sparse_categorical_accuracy: 0.8932\n",
            "Epoch 54/1000\n",
            "167/167 [==============================] - 37s 220ms/step - loss: 0.0121 - sparse_categorical_accuracy: 0.9973 - val_loss: 0.8016 - val_sparse_categorical_accuracy: 0.8788\n",
            "Epoch 55/1000\n",
            "167/167 [==============================] - 37s 220ms/step - loss: 0.0047 - sparse_categorical_accuracy: 0.9992 - val_loss: 0.5427 - val_sparse_categorical_accuracy: 0.8896\n",
            "Epoch 56/1000\n",
            "167/167 [==============================] - 37s 220ms/step - loss: 0.0041 - sparse_categorical_accuracy: 0.9993 - val_loss: 0.5028 - val_sparse_categorical_accuracy: 0.9040\n",
            "Epoch 57/1000\n",
            "167/167 [==============================] - 37s 221ms/step - loss: 0.0013 - sparse_categorical_accuracy: 0.9998 - val_loss: 0.4895 - val_sparse_categorical_accuracy: 0.9040\n",
            "Epoch 58/1000\n",
            "167/167 [==============================] - 37s 221ms/step - loss: 0.0026 - sparse_categorical_accuracy: 0.9993 - val_loss: 1.0642 - val_sparse_categorical_accuracy: 0.7799\n",
            "Epoch 00058: early stopping\n"
          ],
          "name": "stdout"
        }
      ]
    },
    {
      "cell_type": "code",
      "metadata": {
        "id": "TBKkWfGL_QJE",
        "colab": {
          "base_uri": "https://localhost:8080/",
          "height": 404
        },
        "outputId": "21b2252b-5885-475a-97cd-1ae173024aa2"
      },
      "source": [
        "train_loss = model_history.history['loss']\n",
        "val_loss = model_history.history['val_loss']\n",
        "train_accuracy = model_history.history['sparse_categorical_accuracy']\n",
        "val_accuracy = model_history.history['val_sparse_categorical_accuracy']\n",
        "\n",
        "plt.figure(figsize=(12,6))\n",
        "\n",
        "plt.subplot(1,2,1)\n",
        "plt.plot(train_loss, 'r', label='Training loss')\n",
        "plt.plot(val_loss, 'b', label='Validation loss')\n",
        "plt.title('Training and Validation Loss')\n",
        "plt.xlabel('Epoch')\n",
        "plt.ylabel('Loss Value')\n",
        "plt.legend()\n",
        "\n",
        "plt.subplot(1,2,2)\n",
        "plt.plot(train_accuracy, 'r', label='Training Accuracy')\n",
        "plt.plot(val_accuracy, 'b', label='Validation Accuracy')\n",
        "plt.title('Training and Validation Accuracy')\n",
        "plt.xlabel('Epoch')\n",
        "plt.ylabel('Accuracy')\n",
        "plt.legend()\n",
        "\n",
        "plt.show()"
      ],
      "execution_count": 57,
      "outputs": [
        {
          "output_type": "display_data",
          "data": {
            "image/png": "[encoded data removed]",
            "text/plain": [
              "<Figure size 864x432 with 2 Axes>"
            ]
          },
          "metadata": {
            "tags": [],
            "needs_background": "light"
          }
        }
      ]
    },
    {
      "cell_type": "code",
      "metadata": {
        "id": "_ToluDXQ_T7J",
        "colab": {
          "base_uri": "https://localhost:8080/"
        },
        "outputId": "7a0e20dd-41c1-4876-85f8-9da4ca93c1ba"
      },
      "source": [
        "model = keras.models.load_model('/content/drive/MyDrive/modelDL.h5')\n",
        "\n",
        "train_loss, train_acc = model.evaluate(X_train,y_train)\n",
        "test_loss, test_acc = model.evaluate(X_test,y_test)\n",
        "\n",
        "print(\"Train accuracy\", round(train_acc*100, 2),'%')\n",
        "print(\"Train loss\", train_loss)\n",
        "print(\"Test accuracy\", round(test_acc*100, 2),'%')\n",
        "print(\"Test loss\", test_loss)"
      ],
      "execution_count": 58,
      "outputs": [
        {
          "output_type": "stream",
          "text": [
            "167/167 [==============================] - 10s 54ms/step - loss: 0.1191 - sparse_categorical_accuracy: 0.9615\n",
            "44/44 [==============================] - 2s 53ms/step - loss: 0.1691 - sparse_categorical_accuracy: 0.9336\n",
            "Train accuracy 96.15 %\n",
            "Train loss 0.11912021040916443\n",
            "Test accuracy 93.36 %\n",
            "Test loss 0.16912774741649628\n"
          ],
          "name": "stdout"
        }
      ]
    },
    {
      "cell_type": "code",
      "metadata": {
        "id": "ErT7rI4A_WkA"
      },
      "source": [
        "pred = model.predict(X_test)\n",
        "pred = np.argmax(pred, axis = 1)\n",
        "pred = pred.reshape(-1,1)"
      ],
      "execution_count": 59,
      "outputs": []
    },
    {
      "cell_type": "code",
      "metadata": {
        "id": "1Kl6NOdL_eW4",
        "colab": {
          "base_uri": "https://localhost:8080/",
          "height": 607
        },
        "outputId": "cac41452-c39f-4780-c88b-e37c35a04c92"
      },
      "source": [
        "plt.figure(figsize=(12,8))\n",
        "conf_matrix = confusion_matrix(y_test,pred)\n",
        "sns.heatmap(conf_matrix, xticklabels= label_map.values(), yticklabels= label_map.values(), annot=True, fmt=\"d\", cmap=\"Blues\")\n",
        "plt.show()"
      ],
      "execution_count": 60,
      "outputs": [
        {
          "output_type": "display_data",
          "data": {
            "image/png": "[encoded data removed]",
            "text/plain": [
              "<Figure size 864x576 with 2 Axes>"
            ]
          },
          "metadata": {
            "tags": [],
            "needs_background": "light"
          }
        }
      ]
    }
  ]
}