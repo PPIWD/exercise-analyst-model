{
  "nbformat": 4,
  "nbformat_minor": 0,
  "metadata": {
    "colab": {
      "name": "PPIWD_DL.ipynb",
      "provenance": [],
      "collapsed_sections": []
    },
    "kernelspec": {
      "name": "python3",
      "display_name": "Python 3"
    },
    "language_info": {
      "name": "python"
    },
    "accelerator": "GPU"
  },
  "cells": [
    {
      "cell_type": "code",
      "metadata": {
        "id": "TOGM52XKalhM"
      },
      "source": [
        "from tensorflow import keras\n",
        "import numpy as np\n",
        "import pandas as pd\n",
        "\n",
        "from google.colab import drive\n",
        "\n",
        "import seaborn as sns\n",
        "import matplotlib.pyplot as plt\n",
        "import tensorflow as tf\n",
        "from keras import layers\n",
        "import keras\n",
        "from google.colab import drive\n",
        "\n",
        "from sklearn.utils import resample\n",
        "from scipy import stats\n",
        " \n",
        "%matplotlib inline\n",
        "tf.random.set_seed(42)"
      ],
      "execution_count": null,
      "outputs": []
    },
    {
      "cell_type": "code",
      "metadata": {
        "id": "ILDrvsyi6mCz"
      },
      "source": [
        "def build_resnet(input_shape, n_feature_maps, nb_classes):\n",
        "    x = keras.layers.Input(shape=(input_shape))\n",
        "    conv_x = keras.layers.BatchNormalization()(x)\n",
        "    conv_x = keras.layers.Conv2D(n_feature_maps, 8, 1, padding='same')(conv_x)\n",
        "    conv_x = keras.layers.BatchNormalization()(conv_x)\n",
        "    conv_x = keras.layers.Activation('relu')(conv_x)\n",
        "     \n",
        "    conv_y = keras.layers.Conv2D(n_feature_maps, 5, 1, padding='same')(conv_x)\n",
        "    conv_y = keras.layers.BatchNormalization()(conv_y)\n",
        "    conv_y = keras.layers.Activation('relu')(conv_y)\n",
        "     \n",
        "    conv_z = keras.layers.Conv2D(n_feature_maps, 3, 1, padding='same')(conv_y)\n",
        "    conv_z = keras.layers.BatchNormalization()(conv_z)\n",
        "     \n",
        "    is_expand_channels = not (input_shape[-1] == n_feature_maps)\n",
        "    if is_expand_channels:\n",
        "        shortcut_y = keras.layers.Conv2D(n_feature_maps, 1, 1,padding='same')(x)\n",
        "        shortcut_y = keras.layers.BatchNormalization()(shortcut_y)\n",
        "    else:\n",
        "        shortcut_y = keras.layers.BatchNormalization()(x)\n",
        "\n",
        "    y = keras.layers.Add()([shortcut_y, conv_z])\n",
        "    y = keras.layers.Activation('relu')(y)\n",
        "     \n",
        "    x1 = y\n",
        "    conv_x = keras.layers.Conv2D(n_feature_maps*2, 8, 1, padding='same')(x1)\n",
        "    conv_x = keras.layers.BatchNormalization()(conv_x)\n",
        "    conv_x = keras.layers.Activation('relu')(conv_x)\n",
        "     \n",
        "    conv_y = keras.layers.Conv2D(n_feature_maps*2, 5, 1, padding='same')(conv_x)\n",
        "    conv_y = keras.layers.BatchNormalization()(conv_y)\n",
        "    conv_y = keras.layers.Activation('relu')(conv_y)\n",
        "     \n",
        "    conv_z = keras.layers.Conv2D(n_feature_maps*2, 3, 1, padding='same')(conv_y)\n",
        "    conv_z = keras.layers.BatchNormalization()(conv_z)\n",
        "     \n",
        "    is_expand_channels = not (input_shape[-1] == n_feature_maps*2)\n",
        "    if is_expand_channels:\n",
        "        shortcut_y = keras.layers.Conv2D(n_feature_maps*2, 1, 1,padding='same')(x1)\n",
        "        shortcut_y = keras.layers.BatchNormalization()(shortcut_y)\n",
        "    else:\n",
        "        shortcut_y = keras.layers.BatchNormalization()(x1)\n",
        "\n",
        "    y = keras.layers.Add()([shortcut_y, conv_z])\n",
        "    y = keras.layers.Activation('relu')(y)\n",
        "     \n",
        "    x1 = y\n",
        "    conv_x = keras.layers.Conv2D(n_feature_maps*2, 8, 1, padding='same')(x1)\n",
        "    conv_x = keras.layers.BatchNormalization()(conv_x)\n",
        "    conv_x = keras.layers.Activation('relu')(conv_x)\n",
        "     \n",
        "    conv_y = keras.layers.Conv2D(n_feature_maps*2, 5, 1, padding='same')(conv_x)\n",
        "    conv_y = keras.layers.BatchNormalization()(conv_y)\n",
        "    conv_y = keras.layers.Activation('relu')(conv_y)\n",
        "     \n",
        "    conv_z = keras.layers.Conv2D(n_feature_maps*2, 3, 1, padding='same')(conv_y)\n",
        "    conv_z = keras.layers.BatchNormalization()(conv_z)\n",
        "\n",
        "    is_expand_channels = not (input_shape[-1] == n_feature_maps*2)\n",
        "    if is_expand_channels:\n",
        "        shortcut_y = keras.layers.Conv2D(n_feature_maps*2, 1, 1,padding='same')(x1)\n",
        "        shortcut_y = keras.layers.BatchNormalization()(shortcut_y)\n",
        "    else:\n",
        "        shortcut_y = keras.layers.BatchNormalization()(x1)\n",
        "\n",
        "    y = keras.layers.Add()([shortcut_y, conv_z])\n",
        "    y = keras.layers.Activation('relu')(y)\n",
        "     \n",
        "    full = keras.layers.GlobalAveragePooling2D()(y)\n",
        "    out = keras.layers.Dense(nb_classes, activation='softmax')(full)\n",
        "\n",
        "    return x, out"
      ],
      "execution_count": null,
      "outputs": []
    },
    {
      "cell_type": "code",
      "metadata": {
        "colab": {
          "base_uri": "https://localhost:8080/"
        },
        "id": "B7kQodDC2Ax5",
        "outputId": "3c3ed559-382b-4579-d650-d5d148435cbc"
      },
      "source": [
        "drive.mount('/content/drive/')\n",
        "\n",
        "!cp \"/content/drive/MyDrive/data_to_learn.csv\" \"/home/\"\n",
        "df = pd.read_csv('/home/data_to_learn.csv')"
      ],
      "execution_count": null,
      "outputs": [
        {
          "output_type": "stream",
          "text": [
            "Mounted at /content/drive/\n"
          ],
          "name": "stdout"
        }
      ]
    },
    {
      "cell_type": "code",
      "metadata": {
        "colab": {
          "base_uri": "https://localhost:8080/"
        },
        "id": "vnHoHIQN2Bb4",
        "outputId": "53bde85e-7ae8-4c43-f414-48d7a2036a76"
      },
      "source": [
        "df_majority = df[df.Activity==0]\n",
        "df_minorities = df[df.Activity!=0]\n",
        " \n",
        "df_majority_downsampled = resample(df_majority,n_samples=30000, random_state=42)\n",
        "df = pd.concat([df_majority_downsampled, df_minorities])\n",
        "df.Activity.value_counts()"
      ],
      "execution_count": null,
      "outputs": [
        {
          "output_type": "execute_result",
          "data": {
            "text/plain": [
              "11    30720\n",
              "10    30720\n",
              "9     30720\n",
              "5     30720\n",
              "4     30720\n",
              "3     30720\n",
              "2     30720\n",
              "1     30720\n",
              "0     30000\n",
              "7     29441\n",
              "8     29337\n",
              "6     28315\n",
              "12    10342\n",
              "Name: Activity, dtype: int64"
            ]
          },
          "metadata": {
            "tags": []
          },
          "execution_count": 4
        }
      ]
    },
    {
      "cell_type": "code",
      "metadata": {
        "colab": {
          "base_uri": "https://localhost:8080/"
        },
        "id": "YNHbxkWX2FcY",
        "outputId": "5e5a4195-aace-4110-b316-3cca294c41e4"
      },
      "source": [
        "df1 = df.copy()\n",
        "\n",
        "for feature in df1.columns[:-1]:\n",
        "  lower_range = np.quantile(df[feature],0.01)\n",
        "  upper_range = np.quantile(df[feature],0.99)\n",
        "\n",
        "  df1 = df1.drop(df1[(df1[feature]>upper_range) | (df1[feature]<lower_range)].index, axis=0)"
      ],
      "execution_count": null,
      "outputs": [
        {
          "output_type": "stream",
          "text": [
            "arx range: -21.492 to 9.097647999999998\n",
            "shape (365740, 7)\n",
            "ary range: -18.694000000000006 to 11.948059999999998\n",
            "shape (358441, 7)\n",
            "arz range: -10.367 to 11.823119999999996\n",
            "shape (355226, 7)\n",
            "grx range: -1.0196 to 0.95686\n",
            "shape (348554, 7)\n",
            "gry range: -1.1417 to 0.90965\n",
            "shape (341495, 7)\n",
            "grz range: -0.69828 to 1.125\n",
            "shape (335681, 7)\n"
          ],
          "name": "stdout"
        }
      ]
    },
    {
      "cell_type": "code",
      "metadata": {
        "id": "lvdJSXz32HPB"
      },
      "source": [
        "label_map = {\n",
        "    0: 'Nothing',\n",
        "    1: 'Standing still',  \n",
        "    2: 'Sitting and relaxing', \n",
        "    3: 'Lying down',  \n",
        "    4: 'Walking',  \n",
        "    5: 'Climbing stairs',  \n",
        "    6: 'Waist bends forward',\n",
        "    7: 'Frontal elevation of arms', \n",
        "    8: 'Knees bending (crouching)', \n",
        "    9: 'Cycling', \n",
        "    10: 'Jogging', \n",
        "    11: 'Running', \n",
        "    12: 'Jump front & back' \n",
        "}"
      ],
      "execution_count": null,
      "outputs": []
    },
    {
      "cell_type": "code",
      "metadata": {
        "colab": {
          "base_uri": "https://localhost:8080/"
        },
        "id": "aHp5cnNJ2JLY",
        "outputId": "6070ad88-4497-49d4-e9d3-4f84e60855fd"
      },
      "source": [
        "train = df1[ : int(len(df1) * .8079597)]\n",
        "test = df1.drop(train.index, axis=0)\n",
        "train.shape,test.shape"
      ],
      "execution_count": null,
      "outputs": [
        {
          "output_type": "execute_result",
          "data": {
            "text/plain": [
              "((271216, 7), (64465, 7))"
            ]
          },
          "metadata": {
            "tags": []
          },
          "execution_count": 7
        }
      ]
    },
    {
      "cell_type": "code",
      "metadata": {
        "colab": {
          "base_uri": "https://localhost:8080/"
        },
        "id": "V3hFo85q2NQ8",
        "outputId": "a65691ef-2d87-4e77-f523-de802204e5b8"
      },
      "source": [
        "X_train = train.drop(['Activity'],axis=1)\n",
        "y_train = train['Activity']\n",
        "X_test = test.drop(['Activity'],axis=1)\n",
        "y_test = test['Activity']\n",
        "\n",
        "X_train.shape,y_train.shape,X_test.shape,y_test.shape"
      ],
      "execution_count": null,
      "outputs": [
        {
          "output_type": "execute_result",
          "data": {
            "text/plain": [
              "((271216, 6), (271216,), (64465, 6), (64465,))"
            ]
          },
          "metadata": {
            "tags": []
          },
          "execution_count": 22
        }
      ]
    },
    {
      "cell_type": "code",
      "metadata": {
        "id": "xbzkFz602QaA"
      },
      "source": [
        "def create_dataset(X, y, time_steps, step=1):\n",
        "    Xs, ys = [], []\n",
        "    for i in range(0, len(X) - time_steps, step):\n",
        "        x = X.iloc[i:(i + time_steps)].values\n",
        "        labels = y.iloc[i: i + time_steps]\n",
        "        Xs.append(x)\n",
        "        ys.append(stats.mode(labels)[0][0])\n",
        "\n",
        "    return np.array(Xs), np.array(ys).reshape(-1, 1)"
      ],
      "execution_count": null,
      "outputs": []
    },
    {
      "cell_type": "code",
      "metadata": {
        "colab": {
          "base_uri": "https://localhost:8080/"
        },
        "id": "fCXdScoh2Q1Z",
        "outputId": "4cb42d06-eed3-4bf8-ab25-eedce1ebe0d3"
      },
      "source": [
        "X_train,y_train = create_dataset(X_train, y_train, 100, step=50)\n",
        "X_test,y_test = create_dataset(X_test, y_test, 100, step=50)\n",
        "\n",
        "X_train.shape"
      ],
      "execution_count": null,
      "outputs": [
        {
          "output_type": "execute_result",
          "data": {
            "text/plain": [
              "(5423, 100, 6)"
            ]
          },
          "metadata": {
            "tags": []
          },
          "execution_count": 23
        }
      ]
    },
    {
      "cell_type": "code",
      "metadata": {
        "id": "wC3IO2v63kJp"
      },
      "source": [
        "X_train = np.reshape(X_train, (X_train.shape[0], X_train.shape[1], X_train.shape[2], 1))\n",
        "X_test = np.reshape(X_test, (X_test.shape[0], X_test.shape[1], X_test.shape[2], 1))"
      ],
      "execution_count": null,
      "outputs": []
    },
    {
      "cell_type": "code",
      "metadata": {
        "id": "uRG0GJ8c2WFQ"
      },
      "source": [
        "callbacks = [keras.callbacks.ModelCheckpoint(\"/content/drive/MyDrive/modelDL.h5\", save_best_only=True, monitor=\"val_loss\"),\n",
        "             keras.callbacks.EarlyStopping(monitor=\"val_loss\", patience=50, verbose=1)]\n",
        "\n",
        "nb_classes = len(label_map)\n",
        "\n",
        "x , y = build_resnet(X_train.shape[1:], 64, nb_classes)\n",
        "model = keras.models.Model(inputs=x, outputs=y)\n",
        "\n",
        "model.compile(optimizer=\"adam\", loss=\"sparse_categorical_crossentropy\", metrics=[\"sparse_categorical_accuracy\"],)"
      ],
      "execution_count": null,
      "outputs": []
    },
    {
      "cell_type": "code",
      "metadata": {
        "colab": {
          "base_uri": "https://localhost:8080/"
        },
        "id": "96FzqiMz97E6",
        "outputId": "a211a6db-4522-4549-a0a7-a728bad96d58"
      },
      "source": [
        "model_history = model.fit(X_train, y_train, batch_size=128, epochs= 100, validation_data=(X_test,y_test), callbacks=callbacks)"
      ],
      "execution_count": null,
      "outputs": [
        {
          "output_type": "stream",
          "text": [
            "Epoch 1/10\n",
            "170/170 [==============================] - 51s 89ms/step - loss: 1.0302 - sparse_categorical_accuracy: 0.6445 - val_loss: 11.5679 - val_sparse_categorical_accuracy: 0.1475\n",
            "Epoch 2/10\n",
            "170/170 [==============================] - 12s 73ms/step - loss: 0.3601 - sparse_categorical_accuracy: 0.8700 - val_loss: 6.5107 - val_sparse_categorical_accuracy: 0.2725\n",
            "Epoch 3/10\n",
            "170/170 [==============================] - 12s 72ms/step - loss: 0.2108 - sparse_categorical_accuracy: 0.9276 - val_loss: 0.5099 - val_sparse_categorical_accuracy: 0.8331\n",
            "Epoch 4/10\n",
            "170/170 [==============================] - 12s 71ms/step - loss: 0.1332 - sparse_categorical_accuracy: 0.9585 - val_loss: 3.5924 - val_sparse_categorical_accuracy: 0.5683\n",
            "Epoch 5/10\n",
            "170/170 [==============================] - 12s 70ms/step - loss: 0.1883 - sparse_categorical_accuracy: 0.9335 - val_loss: 0.9170 - val_sparse_categorical_accuracy: 0.7492\n",
            "Epoch 6/10\n",
            "170/170 [==============================] - 12s 70ms/step - loss: 0.1032 - sparse_categorical_accuracy: 0.9672 - val_loss: 0.6220 - val_sparse_categorical_accuracy: 0.7741\n",
            "Epoch 7/10\n",
            "170/170 [==============================] - 12s 71ms/step - loss: 0.0928 - sparse_categorical_accuracy: 0.9674 - val_loss: 0.5178 - val_sparse_categorical_accuracy: 0.8634\n",
            "Epoch 8/10\n",
            "170/170 [==============================] - 12s 71ms/step - loss: 0.0787 - sparse_categorical_accuracy: 0.9769 - val_loss: 0.2207 - val_sparse_categorical_accuracy: 0.9208\n",
            "Epoch 9/10\n",
            "170/170 [==============================] - 12s 72ms/step - loss: 0.0609 - sparse_categorical_accuracy: 0.9816 - val_loss: 0.6674 - val_sparse_categorical_accuracy: 0.8711\n",
            "Epoch 10/10\n",
            "170/170 [==============================] - 12s 71ms/step - loss: 0.0587 - sparse_categorical_accuracy: 0.9795 - val_loss: 5.7615 - val_sparse_categorical_accuracy: 0.4557\n"
          ],
          "name": "stdout"
        }
      ]
    },
    {
      "cell_type": "code",
      "metadata": {
        "colab": {
          "base_uri": "https://localhost:8080/",
          "height": 404
        },
        "id": "TBKkWfGL_QJE",
        "outputId": "5b5687a0-065a-44fd-f55d-69a60b7afabb"
      },
      "source": [
        "train_loss = model_history.history['loss']\n",
        "val_loss = model_history.history['val_loss']\n",
        "train_accuracy = model_history.history['sparse_categorical_accuracy']\n",
        "val_accuracy = model_history.history['val_sparse_categorical_accuracy']\n",
        "\n",
        "plt.figure(figsize=(12,6))\n",
        "\n",
        "plt.subplot(1,2,1)\n",
        "plt.plot(train_loss, 'r', label='Training loss')\n",
        "plt.plot(val_loss, 'b', label='Validation loss')\n",
        "plt.title('Training and Validation Loss')\n",
        "plt.xlabel('Epoch')\n",
        "plt.ylabel('Loss Value')\n",
        "plt.legend()\n",
        "\n",
        "plt.subplot(1,2,2)\n",
        "plt.plot(train_accuracy, 'r', label='Training Accuracy')\n",
        "plt.plot(val_accuracy, 'b', label='Validation Accuracy')\n",
        "plt.title('Training and Validation Accuracy')\n",
        "plt.xlabel('Epoch')\n",
        "plt.ylabel('Accuracy')\n",
        "plt.legend()\n",
        "\n",
        "plt.show()"
      ],
      "execution_count": null,
      "outputs": [
        {
          "output_type": "display_data",
          "data": {
            "image/png": "[encoded data removed]",
            "text/plain": [
              "<Figure size 864x432 with 2 Axes>"
            ]
          },
          "metadata": {
            "tags": [],
            "needs_background": "light"
          }
        }
      ]
    },
    {
      "cell_type": "code",
      "metadata": {
        "colab": {
          "base_uri": "https://localhost:8080/"
        },
        "id": "_ToluDXQ_T7J",
        "outputId": "a51846df-b559-4c67-ffee-4c531aef58b4"
      },
      "source": [
        "model = keras.models.load_model('/content/drive/MyDrive/modelDL.h5')\n",
        "\n",
        "train_loss, train_acc = model.evaluate(X_train,y_train)\n",
        "test_loss, test_acc = model.evaluate(X_test,y_test)\n",
        "\n",
        "print(\"Train accuracy\", round(train_acc*100, 2),'%')\n",
        "print(\"Train loss\", train_loss)\n",
        "print(\"Test accuracy\", round(test_acc*100, 2),'%')\n",
        "print(\"Test loss\", test_loss)"
      ],
      "execution_count": null,
      "outputs": [
        {
          "output_type": "stream",
          "text": [
            "170/170 [==============================] - 3s 18ms/step - loss: 0.1707 - sparse_categorical_accuracy: 0.9321\n",
            "41/41 [==============================] - 1s 18ms/step - loss: 0.2207 - sparse_categorical_accuracy: 0.9208\n",
            "Train accuracy 93.21 %\n",
            "Train loss 0.17072299122810364\n",
            "Test accuracy 92.08 %\n",
            "Test loss 0.22073063254356384\n"
          ],
          "name": "stdout"
        }
      ]
    },
    {
      "cell_type": "code",
      "metadata": {
        "id": "ErT7rI4A_WkA"
      },
      "source": [
        "pred = model.predict(X_test)\n",
        "pred = np.argmax(pred, axis = 1)\n",
        "pred = pred.reshape(-1,1)"
      ],
      "execution_count": null,
      "outputs": []
    },
    {
      "cell_type": "code",
      "metadata": {
        "colab": {
          "base_uri": "https://localhost:8080/",
          "height": 607
        },
        "id": "1Kl6NOdL_eW4",
        "outputId": "d9b3a68f-a6b1-4346-de1f-6255d46c52bb"
      },
      "source": [
        "from sklearn.metrics import confusion_matrix, classification_report\n",
        "plt.figure(figsize=(12,8))\n",
        "conf_matrix = confusion_matrix(y_test,pred)\n",
        "sns.heatmap(conf_matrix, xticklabels= label_map.values(), yticklabels= label_map.values(), annot=True, fmt=\"d\")\n",
        "plt.show()"
      ],
      "execution_count": null,
      "outputs": [
        {
          "output_type": "display_data",
          "data": {
            "image/png": "[encoded data removed]",
            "text/plain": [
              "<Figure size 864x576 with 2 Axes>"
            ]
          },
          "metadata": {
            "tags": [],
            "needs_background": "light"
          }
        }
      ]
    }
  ]
}